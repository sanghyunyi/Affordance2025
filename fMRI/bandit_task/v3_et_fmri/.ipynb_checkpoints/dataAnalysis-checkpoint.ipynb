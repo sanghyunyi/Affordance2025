{
 "cells": [
  {
   "cell_type": "code",
   "execution_count": 43,
   "metadata": {},
   "outputs": [],
   "source": [
    "import pickle, config\n",
    "import numpy as np"
   ]
  },
  {
   "cell_type": "code",
   "execution_count": 127,
   "metadata": {},
   "outputs": [],
   "source": [
    "data = pickle.load(open('./Output/1/sess1_data.pkl', 'rb'))"
   ]
  },
  {
   "cell_type": "code",
   "execution_count": 45,
   "metadata": {},
   "outputs": [],
   "source": [
    "behavior_data = data.__dict__['sessionInfo'][0].__dict__"
   ]
  },
  {
   "cell_type": "code",
   "execution_count": 46,
   "metadata": {},
   "outputs": [],
   "source": [
    "missedTrials = np.isnan(behavior_data['payOut'])\n",
    "doneTrials = np.logical_not(missedTrials)"
   ]
  },
  {
   "cell_type": "code",
   "execution_count": 47,
   "metadata": {},
   "outputs": [],
   "source": [
    "shownCond = behavior_data['shownCond'][doneTrials]"
   ]
  },
  {
   "cell_type": "code",
   "execution_count": 48,
   "metadata": {},
   "outputs": [
    {
     "data": {
      "text/plain": [
       "array([2, 0, 0, 2, 1, 0, 2, 0, 0, 1, 1, 1, 1, 1, 0, 2, 1, 1, 2, 2, 2, 2,\n",
       "       2, 1, 1, 2, 2, 2, 1, 1, 1, 1, 1, 1, 1, 2, 2, 0, 0, 1, 2, 0, 1, 2,\n",
       "       0, 0, 1, 1, 2, 2, 0])"
      ]
     },
     "execution_count": 48,
     "metadata": {},
     "output_type": "execute_result"
    }
   ],
   "source": [
    "behavior_data['selectedMov'][doneTrials]"
   ]
  },
  {
   "cell_type": "code",
   "execution_count": 49,
   "metadata": {},
   "outputs": [
    {
     "data": {
      "text/plain": [
       "array([2, 0, 0, 0, 0, 0, 2, 0, 2, 1, 1, 2, 1, 1, 1, 1, 1, 1, 2, 1, 0, 2,\n",
       "       2, 1, 2, 1, 1, 0, 2, 0, 2, 1, 0, 1, 0, 0, 1, 1, 0, 1, 2, 1, 2, 2,\n",
       "       2, 1, 0, 2, 0, 0, 0])"
      ]
     },
     "execution_count": 49,
     "metadata": {},
     "output_type": "execute_result"
    }
   ],
   "source": [
    "shownCond"
   ]
  },
  {
   "cell_type": "code",
   "execution_count": 50,
   "metadata": {},
   "outputs": [],
   "source": [
    "affordingActions = np.argmax(behavior_data['affordance'][doneTrials][:,:3], axis=1)"
   ]
  },
  {
   "cell_type": "code",
   "execution_count": 51,
   "metadata": {},
   "outputs": [],
   "source": [
    "rewardingActions = np.argmax(behavior_data['pWinOfMov'][doneTrials],axis=1)"
   ]
  },
  {
   "cell_type": "code",
   "execution_count": 52,
   "metadata": {},
   "outputs": [],
   "source": [
    "congruent = shownCond == 0"
   ]
  },
  {
   "cell_type": "code",
   "execution_count": 53,
   "metadata": {},
   "outputs": [],
   "source": [
    "incongruent = shownCond == 1"
   ]
  },
  {
   "cell_type": "code",
   "execution_count": 54,
   "metadata": {},
   "outputs": [],
   "source": [
    "lowReward = shownCond == 2"
   ]
  },
  {
   "cell_type": "code",
   "execution_count": 16,
   "metadata": {},
   "outputs": [
    {
     "data": {
      "text/plain": [
       "array([2, 2, 2, 2, 2, 2, 2, 2, 2, 2, 2, 2, 2, 2, 2, 2, 2, 2, 2])"
      ]
     },
     "execution_count": 16,
     "metadata": {},
     "output_type": "execute_result"
    }
   ],
   "source": [
    "rewardingActions[incongruent]"
   ]
  },
  {
   "cell_type": "code",
   "execution_count": 17,
   "metadata": {},
   "outputs": [
    {
     "data": {
      "text/plain": [
       "0.45098039215686275"
      ]
     },
     "execution_count": 17,
     "metadata": {},
     "output_type": "execute_result"
    }
   ],
   "source": [
    "np.average((behavior_data['selectedMov'][doneTrials] == affordingActions))"
   ]
  },
  {
   "cell_type": "code",
   "execution_count": 28,
   "metadata": {},
   "outputs": [
    {
     "data": {
      "text/plain": [
       "0.3888888888888889"
      ]
     },
     "execution_count": 28,
     "metadata": {},
     "output_type": "execute_result"
    }
   ],
   "source": [
    "np.average((behavior_data['selectedMov'][doneTrials] == rewardingActions)[congruent|incongruent][:18])"
   ]
  },
  {
   "cell_type": "code",
   "execution_count": 29,
   "metadata": {},
   "outputs": [
    {
     "data": {
      "text/plain": [
       "0.2222222222222222"
      ]
     },
     "execution_count": 29,
     "metadata": {},
     "output_type": "execute_result"
    }
   ],
   "source": [
    "np.average((behavior_data['selectedMov'][doneTrials] == rewardingActions)[congruent|incongruent][18:])"
   ]
  },
  {
   "cell_type": "code",
   "execution_count": 23,
   "metadata": {},
   "outputs": [
    {
     "data": {
      "text/plain": [
       "0.64"
      ]
     },
     "execution_count": 23,
     "metadata": {},
     "output_type": "execute_result"
    }
   ],
   "source": [
    "np.average((behavior_data['selectedMov'][doneTrials] == affordingActions)[:25])"
   ]
  },
  {
   "cell_type": "code",
   "execution_count": 24,
   "metadata": {},
   "outputs": [
    {
     "data": {
      "text/plain": [
       "0.2692307692307692"
      ]
     },
     "execution_count": 24,
     "metadata": {},
     "output_type": "execute_result"
    }
   ],
   "source": [
    "np.average((behavior_data['selectedMov'][doneTrials] == affordingActions)[25:])"
   ]
  },
  {
   "cell_type": "code",
   "execution_count": 74,
   "metadata": {},
   "outputs": [],
   "source": [
    "selectedMov_congruent = behavior_data['selectedMov'][doneTrials][congruent]"
   ]
  },
  {
   "cell_type": "code",
   "execution_count": 75,
   "metadata": {},
   "outputs": [],
   "source": [
    "selectedMov_incongruent = behavior_data['selectedMov'][doneTrials][incongruent]"
   ]
  },
  {
   "cell_type": "code",
   "execution_count": 76,
   "metadata": {},
   "outputs": [],
   "source": [
    "selectedMov_lowrew = behavior_data['selectedMov'][doneTrials][lowReward]"
   ]
  },
  {
   "cell_type": "code",
   "execution_count": 77,
   "metadata": {},
   "outputs": [
    {
     "data": {
      "text/plain": [
       "0.35294117647058826"
      ]
     },
     "execution_count": 77,
     "metadata": {},
     "output_type": "execute_result"
    }
   ],
   "source": [
    "np.average(selectedMov_congruent == affordingActions[congruent][0])"
   ]
  },
  {
   "cell_type": "code",
   "execution_count": 78,
   "metadata": {},
   "outputs": [
    {
     "data": {
      "text/plain": [
       "0.35294117647058826"
      ]
     },
     "execution_count": 78,
     "metadata": {},
     "output_type": "execute_result"
    }
   ],
   "source": [
    "np.average(selectedMov_congruent == rewardingActions[congruent][0])"
   ]
  },
  {
   "cell_type": "code",
   "execution_count": 79,
   "metadata": {},
   "outputs": [
    {
     "data": {
      "text/plain": [
       "0.5263157894736842"
      ]
     },
     "execution_count": 79,
     "metadata": {},
     "output_type": "execute_result"
    }
   ],
   "source": [
    "np.average(selectedMov_incongruent == affordingActions[incongruent][0])"
   ]
  },
  {
   "cell_type": "code",
   "execution_count": 80,
   "metadata": {},
   "outputs": [
    {
     "data": {
      "text/plain": [
       "0.2631578947368421"
      ]
     },
     "execution_count": 80,
     "metadata": {},
     "output_type": "execute_result"
    }
   ],
   "source": [
    "np.average(selectedMov_incongruent == rewardingActions[incongruent][0])"
   ]
  },
  {
   "cell_type": "code",
   "execution_count": 81,
   "metadata": {},
   "outputs": [
    {
     "data": {
      "text/plain": [
       "0.4666666666666667"
      ]
     },
     "execution_count": 81,
     "metadata": {},
     "output_type": "execute_result"
    }
   ],
   "source": [
    "np.average(selectedMov_lowrew == affordingActions[lowReward][0])"
   ]
  },
  {
   "cell_type": "code",
   "execution_count": 136,
   "metadata": {},
   "outputs": [
    {
     "data": {
      "text/plain": [
       "2"
      ]
     },
     "execution_count": 136,
     "metadata": {},
     "output_type": "execute_result"
    }
   ],
   "source": [
    "affordingActions[lowReward][0]"
   ]
  },
  {
   "cell_type": "code",
   "execution_count": 140,
   "metadata": {},
   "outputs": [
    {
     "data": {
      "text/plain": [
       "0.25"
      ]
     },
     "execution_count": 140,
     "metadata": {},
     "output_type": "execute_result"
    }
   ],
   "source": [
    "np.average((selectedMov_lowrew == 1 | 0)[:8])"
   ]
  },
  {
   "cell_type": "code",
   "execution_count": 141,
   "metadata": {},
   "outputs": [
    {
     "data": {
      "text/plain": [
       "0.5714285714285714"
      ]
     },
     "execution_count": 141,
     "metadata": {},
     "output_type": "execute_result"
    }
   ],
   "source": [
    "np.average((selectedMov_lowrew == 1 | 0)[8:])"
   ]
  },
  {
   "cell_type": "code",
   "execution_count": 111,
   "metadata": {},
   "outputs": [
    {
     "data": {
      "text/plain": [
       "0.4444444444444444"
      ]
     },
     "execution_count": 111,
     "metadata": {},
     "output_type": "execute_result"
    }
   ],
   "source": [
    "np.average((selectedMov_congruent == rewardingActions[congruent][0])[:9])"
   ]
  },
  {
   "cell_type": "code",
   "execution_count": 114,
   "metadata": {},
   "outputs": [
    {
     "data": {
      "text/plain": [
       "0.25"
      ]
     },
     "execution_count": 114,
     "metadata": {},
     "output_type": "execute_result"
    }
   ],
   "source": [
    "np.average((selectedMov_congruent == rewardingActions[congruent][0])[9:])"
   ]
  },
  {
   "cell_type": "code",
   "execution_count": 115,
   "metadata": {},
   "outputs": [
    {
     "data": {
      "text/plain": [
       "0.2222222222222222"
      ]
     },
     "execution_count": 115,
     "metadata": {},
     "output_type": "execute_result"
    }
   ],
   "source": [
    "np.average((selectedMov_incongruent == rewardingActions[incongruent][0])[:9])"
   ]
  },
  {
   "cell_type": "code",
   "execution_count": 116,
   "metadata": {},
   "outputs": [
    {
     "data": {
      "text/plain": [
       "0.3"
      ]
     },
     "execution_count": 116,
     "metadata": {},
     "output_type": "execute_result"
    }
   ],
   "source": [
    "np.average((selectedMov_incongruent == rewardingActions[incongruent][0])[9:])"
   ]
  },
  {
   "cell_type": "code",
   "execution_count": 133,
   "metadata": {},
   "outputs": [
    {
     "data": {
      "text/plain": [
       "0.125"
      ]
     },
     "execution_count": 133,
     "metadata": {},
     "output_type": "execute_result"
    }
   ],
   "source": [
    "np.average((selectedMov_lowrew == rewardingActions[lowReward][0])[:8])"
   ]
  },
  {
   "cell_type": "code",
   "execution_count": 134,
   "metadata": {},
   "outputs": [
    {
     "data": {
      "text/plain": [
       "0.14285714285714285"
      ]
     },
     "execution_count": 134,
     "metadata": {},
     "output_type": "execute_result"
    }
   ],
   "source": [
    "np.average((selectedMov_lowrew == rewardingActions[lowReward][0])[8:])"
   ]
  },
  {
   "cell_type": "code",
   "execution_count": 41,
   "metadata": {},
   "outputs": [],
   "source": [
    "rt = data.__dict__['sessionInfo'][0].__dict__['sessionResponses'].__dict__['rt'][doneTrials]"
   ]
  },
  {
   "cell_type": "code",
   "execution_count": 122,
   "metadata": {},
   "outputs": [
    {
     "data": {
      "text/plain": [
       "1.9441470196729318"
      ]
     },
     "execution_count": 122,
     "metadata": {},
     "output_type": "execute_result"
    }
   ],
   "source": [
    "np.average(rt[congruent][:9])"
   ]
  },
  {
   "cell_type": "code",
   "execution_count": 123,
   "metadata": {},
   "outputs": [
    {
     "data": {
      "text/plain": [
       "1.771051825528654"
      ]
     },
     "execution_count": 123,
     "metadata": {},
     "output_type": "execute_result"
    }
   ],
   "source": [
    "np.average(rt[incongruent][:9])"
   ]
  },
  {
   "cell_type": "code",
   "execution_count": 124,
   "metadata": {
    "scrolled": true
   },
   "outputs": [
    {
     "data": {
      "text/plain": [
       "1.6342131628698553"
      ]
     },
     "execution_count": 124,
     "metadata": {},
     "output_type": "execute_result"
    }
   ],
   "source": [
    "np.average(rt[lowReward][:8])"
   ]
  },
  {
   "cell_type": "code",
   "execution_count": 129,
   "metadata": {},
   "outputs": [
    {
     "data": {
      "text/plain": [
       "array([2, 0, 0, 2, 1, 0, 2, 0, 0, 1, 1, 1, 1, 1, 0, 2, 1, 1, 2, 2, 2, 2,\n",
       "       2, 1, 1, 2, 2, 2, 1, 1, 1, 1, 1, 1, 1, 2, 2, 0, 0, 1, 2, 0, 1, 2,\n",
       "       0, 0, 1, 1, 2, 2, 0])"
      ]
     },
     "execution_count": 129,
     "metadata": {},
     "output_type": "execute_result"
    }
   ],
   "source": [
    "data.__dict__['sessionInfo'][0].__dict__['selectedMov'][doneTrials]"
   ]
  },
  {
   "cell_type": "code",
   "execution_count": 130,
   "metadata": {},
   "outputs": [
    {
     "data": {
      "text/plain": [
       "array([[32.54545455, 39.4       , 88.3       , 42.72727273, 88.64285714],\n",
       "       [97.16666667, 51.4       , 44.        , 39.        , 49.30555556],\n",
       "       [97.16666667, 51.4       , 44.        , 39.        , 49.30555556],\n",
       "       [97.16666667, 51.4       , 44.        , 39.        , 49.30555556],\n",
       "       [97.16666667, 51.4       , 44.        , 39.        , 49.30555556],\n",
       "       [97.16666667, 51.4       , 44.        , 39.        , 49.30555556],\n",
       "       [32.54545455, 39.4       , 88.3       , 42.72727273, 88.64285714],\n",
       "       [97.16666667, 51.4       , 44.        , 39.        , 49.30555556],\n",
       "       [32.54545455, 39.4       , 88.3       , 42.72727273, 88.64285714],\n",
       "       [43.11111111, 87.55555556, 29.        , 33.88888889, 34.13888889],\n",
       "       [43.11111111, 87.55555556, 29.        , 33.88888889, 34.13888889],\n",
       "       [32.54545455, 39.4       , 88.3       , 42.72727273, 88.64285714],\n",
       "       [43.11111111, 87.55555556, 29.        , 33.88888889, 34.13888889],\n",
       "       [43.11111111, 87.55555556, 29.        , 33.88888889, 34.13888889],\n",
       "       [43.11111111, 87.55555556, 29.        , 33.88888889, 34.13888889],\n",
       "       [43.11111111, 87.55555556, 29.        , 33.88888889, 34.13888889],\n",
       "       [43.11111111, 87.55555556, 29.        , 33.88888889, 34.13888889],\n",
       "       [43.11111111, 87.55555556, 29.        , 33.88888889, 34.13888889],\n",
       "       [32.54545455, 39.4       , 88.3       , 42.72727273, 88.64285714],\n",
       "       [43.11111111, 87.55555556, 29.        , 33.88888889, 34.13888889],\n",
       "       [97.16666667, 51.4       , 44.        , 39.        , 49.30555556],\n",
       "       [32.54545455, 39.4       , 88.3       , 42.72727273, 88.64285714],\n",
       "       [32.54545455, 39.4       , 88.3       , 42.72727273, 88.64285714],\n",
       "       [43.11111111, 87.55555556, 29.        , 33.88888889, 34.13888889],\n",
       "       [32.54545455, 39.4       , 88.3       , 42.72727273, 88.64285714],\n",
       "       [43.11111111, 87.55555556, 29.        , 33.88888889, 34.13888889],\n",
       "       [43.11111111, 87.55555556, 29.        , 33.88888889, 34.13888889],\n",
       "       [97.16666667, 51.4       , 44.        , 39.        , 49.30555556],\n",
       "       [32.54545455, 39.4       , 88.3       , 42.72727273, 88.64285714],\n",
       "       [97.16666667, 51.4       , 44.        , 39.        , 49.30555556],\n",
       "       [32.54545455, 39.4       , 88.3       , 42.72727273, 88.64285714],\n",
       "       [43.11111111, 87.55555556, 29.        , 33.88888889, 34.13888889],\n",
       "       [97.16666667, 51.4       , 44.        , 39.        , 49.30555556],\n",
       "       [43.11111111, 87.55555556, 29.        , 33.88888889, 34.13888889],\n",
       "       [97.16666667, 51.4       , 44.        , 39.        , 49.30555556],\n",
       "       [97.16666667, 51.4       , 44.        , 39.        , 49.30555556],\n",
       "       [43.11111111, 87.55555556, 29.        , 33.88888889, 34.13888889],\n",
       "       [43.11111111, 87.55555556, 29.        , 33.88888889, 34.13888889],\n",
       "       [97.16666667, 51.4       , 44.        , 39.        , 49.30555556],\n",
       "       [43.11111111, 87.55555556, 29.        , 33.88888889, 34.13888889],\n",
       "       [32.54545455, 39.4       , 88.3       , 42.72727273, 88.64285714],\n",
       "       [43.11111111, 87.55555556, 29.        , 33.88888889, 34.13888889],\n",
       "       [32.54545455, 39.4       , 88.3       , 42.72727273, 88.64285714],\n",
       "       [32.54545455, 39.4       , 88.3       , 42.72727273, 88.64285714],\n",
       "       [32.54545455, 39.4       , 88.3       , 42.72727273, 88.64285714],\n",
       "       [43.11111111, 87.55555556, 29.        , 33.88888889, 34.13888889],\n",
       "       [97.16666667, 51.4       , 44.        , 39.        , 49.30555556],\n",
       "       [32.54545455, 39.4       , 88.3       , 42.72727273, 88.64285714],\n",
       "       [97.16666667, 51.4       , 44.        , 39.        , 49.30555556],\n",
       "       [97.16666667, 51.4       , 44.        , 39.        , 49.30555556],\n",
       "       [97.16666667, 51.4       , 44.        , 39.        , 49.30555556]])"
      ]
     },
     "execution_count": 130,
     "metadata": {},
     "output_type": "execute_result"
    }
   ],
   "source": [
    "data.__dict__['sessionInfo'][0].__dict__['affordance'][doneTrials]"
   ]
  },
  {
   "cell_type": "code",
   "execution_count": 110,
   "metadata": {},
   "outputs": [
    {
     "data": {
      "text/plain": [
       "<matplotlib.lines.Line2D at 0x7fba8e4f0978>"
      ]
     },
     "execution_count": 110,
     "metadata": {},
     "output_type": "execute_result"
    },
    {
     "data": {
      "text/plain": [
       "<BarContainer object of 3 artists>"
      ]
     },
     "execution_count": 110,
     "metadata": {},
     "output_type": "execute_result"
    },
    {
     "data": {
      "text/plain": [
       "Text(0, 0.5, 'ratio of choosing affordance in first half trials')"
      ]
     },
     "execution_count": 110,
     "metadata": {},
     "output_type": "execute_result"
    },
    {
     "data": {
      "image/png": "[encoded data removed]",
      "text/plain": [
       "<Figure size 432x288 with 1 Axes>"
      ]
     },
     "metadata": {
      "needs_background": "light"
     },
     "output_type": "display_data"
    }
   ],
   "source": [
    "import matplotlib.pyplot as plt\n",
    "from IPython.core.interactiveshell import InteractiveShell\n",
    "InteractiveShell.ast_node_interactivity = \"all\"\n",
    "\n",
    "fig = plt.figure()\n",
    "ax = fig.add_axes([0,0,1,1])\n",
    "langs = ['congruent', 'incongruent', 'less-rewarding']\n",
    "ratio = [0.4444444444444444, 0.6666666666666666, 0.625]\n",
    "plt.axhline(y=0.3333333333, color='r', linestyle='-')\n",
    "ax.bar(langs,ratio)\n",
    "plt.ylabel('ratio of choosing affordance in first half trials')\n",
    "plt.show()"
   ]
  },
  {
   "cell_type": "code",
   "execution_count": 135,
   "metadata": {},
   "outputs": [
    {
     "data": {
      "text/plain": [
       "<BarContainer object of 3 artists>"
      ]
     },
     "execution_count": 135,
     "metadata": {},
     "output_type": "execute_result"
    },
    {
     "data": {
      "text/plain": [
       "<BarContainer object of 3 artists>"
      ]
     },
     "execution_count": 135,
     "metadata": {},
     "output_type": "execute_result"
    },
    {
     "data": {
      "text/plain": [
       "<BarContainer object of 3 artists>"
      ]
     },
     "execution_count": 135,
     "metadata": {},
     "output_type": "execute_result"
    },
    {
     "data": {
      "text/plain": [
       "[<matplotlib.axis.XTick at 0x7fba8e8fbc50>,\n",
       " <matplotlib.axis.XTick at 0x7fba8e8dd048>,\n",
       " <matplotlib.axis.XTick at 0x7fba8e8fb7b8>]"
      ]
     },
     "execution_count": 135,
     "metadata": {},
     "output_type": "execute_result"
    },
    {
     "data": {
      "text/plain": [
       "[Text(0, 0, 'Congruent'),\n",
       " Text(0, 0, 'Incongruent'),\n",
       " Text(0, 0, 'Less-rewarding')]"
      ]
     },
     "execution_count": 135,
     "metadata": {},
     "output_type": "execute_result"
    },
    {
     "data": {
      "text/plain": [
       "<matplotlib.legend.Legend at 0x7fba8e918780>"
      ]
     },
     "execution_count": 135,
     "metadata": {},
     "output_type": "execute_result"
    },
    {
     "data": {
      "text/plain": [
       "<matplotlib.lines.Line2D at 0x7fba8e9d8c18>"
      ]
     },
     "execution_count": 135,
     "metadata": {},
     "output_type": "execute_result"
    },
    {
     "data": {
      "text/plain": [
       "Text(0, 0.5, 'ratio of choosing affordance')"
      ]
     },
     "execution_count": 135,
     "metadata": {},
     "output_type": "execute_result"
    },
    {
     "data": {
      "image/png": "[encoded data removed]",
      "text/plain": [
       "<Figure size 432x288 with 1 Axes>"
      ]
     },
     "metadata": {
      "needs_background": "light"
     },
     "output_type": "display_data"
    }
   ],
   "source": [
    "data = [[0.4444444444444444, 0.6666666666666666, 0.625],\n",
    "[0.25, 0.4, 0.2857142857142857],\n",
    "[0.35294117647058826, 0.5263157894736842, 0.4666666666666667]]\n",
    "X = np.arange(3)\n",
    "fig = plt.figure()\n",
    "ax = fig.add_axes([0,0,1,1])\n",
    "ax.bar(X + 0.00, data[0], color = 'b', width = 0.25)\n",
    "ax.bar(X + 0.25, data[1], color = 'g', width = 0.25)\n",
    "ax.bar(X + 0.50, data[2], color = 'r', width = 0.25)\n",
    "ax.set_xticks(X + 0.25)\n",
    "ax.set_xticklabels(('Congruent', 'Incongruent', 'Less-rewarding'))\n",
    "ax.legend(('first half','second half', 'total'))\n",
    "plt.axhline(y=0.3333333333, linestyle='-')\n",
    "plt.ylabel('ratio of choosing affordance')"
   ]
  },
  {
   "cell_type": "code",
   "execution_count": null,
   "metadata": {},
   "outputs": [],
   "source": [
    "data = [[0.4444444444444444, 0.6666666666666666, 0.125],\n",
    "[0.25, 0.4, 0.14285714285714285],\n",
    "       ]\n",
    "X = np.arange(2)\n",
    "fig = plt.figure()\n",
    "ax = fig.add_axes([0,0,1,1])\n",
    "ax.bar(X + 0.00, data[0], color = 'b', width = 0.25)\n",
    "ax.bar(X + 0.25, data[1], color = 'g', width = 0.25)\n",
    "ax.bar(X + 0.50, data[2], color = 'r', width = 0.25)\n",
    "ax.set_xticks(X + 0.25)\n",
    "ax.set_xticklabels(('Congruent', 'Incongruent'))\n",
    "ax.legend(('first half','second half','total'))\n",
    "plt.axhline(y=0.3333333333, linestyle='-')\n",
    "plt.ylabel('ratio of choosing affordance')"
   ]
  },
  {
   "cell_type": "code",
   "execution_count": 132,
   "metadata": {},
   "outputs": [
    {
     "data": {
      "text/plain": [
       "<BarContainer object of 2 artists>"
      ]
     },
     "execution_count": 132,
     "metadata": {},
     "output_type": "execute_result"
    },
    {
     "data": {
      "text/plain": [
       "<BarContainer object of 2 artists>"
      ]
     },
     "execution_count": 132,
     "metadata": {},
     "output_type": "execute_result"
    },
    {
     "data": {
      "text/plain": [
       "[<matplotlib.axis.XTick at 0x7fba8e811550>,\n",
       " <matplotlib.axis.XTick at 0x7fba8e7e72b0>]"
      ]
     },
     "execution_count": 132,
     "metadata": {},
     "output_type": "execute_result"
    },
    {
     "data": {
      "text/plain": [
       "[Text(0, 0, 'Congruent'), Text(0, 0, 'Incongruent')]"
      ]
     },
     "execution_count": 132,
     "metadata": {},
     "output_type": "execute_result"
    },
    {
     "data": {
      "text/plain": [
       "<matplotlib.legend.Legend at 0x7fba8e829518>"
      ]
     },
     "execution_count": 132,
     "metadata": {},
     "output_type": "execute_result"
    },
    {
     "data": {
      "text/plain": [
       "<matplotlib.lines.Line2D at 0x7fba8e5bef28>"
      ]
     },
     "execution_count": 132,
     "metadata": {},
     "output_type": "execute_result"
    },
    {
     "data": {
      "text/plain": [
       "Text(0, 0.5, 'ratio of choosing rewarding action')"
      ]
     },
     "execution_count": 132,
     "metadata": {},
     "output_type": "execute_result"
    },
    {
     "data": {
      "image/png": "[encoded data removed]",
      "text/plain": [
       "<Figure size 432x288 with 1 Axes>"
      ]
     },
     "metadata": {
      "needs_background": "light"
     },
     "output_type": "display_data"
    }
   ],
   "source": [
    "data = [[0.4444444444444444, 0.2222222222222222],\n",
    "[0.25, 0.3]]\n",
    "X = np.arange(2)\n",
    "fig = plt.figure()\n",
    "ax = fig.add_axes([0,0,1,1])\n",
    "ax.bar(X + 0.00, data[0], color = 'b', width = 0.25)\n",
    "ax.bar(X + 0.25, data[1], color = 'g', width = 0.25)\n",
    "ax.set_xticks(X + 0.25/2)\n",
    "ax.set_xticklabels(('Congruent', 'Incongruent'))\n",
    "ax.legend(('first half','second half'))\n",
    "plt.axhline(y=0.3333333333, linestyle='-')\n",
    "plt.ylabel('ratio of choosing rewarding action')"
   ]
  },
  {
   "cell_type": "code",
   "execution_count": null,
   "metadata": {},
   "outputs": [],
   "source": []
  }
 ],
 "metadata": {
  "kernelspec": {
   "display_name": "Python 3",
   "language": "python",
   "name": "python3"
  },
  "language_info": {
   "codemirror_mode": {
    "name": "ipython",
    "version": 3
   },
   "file_extension": ".py",
   "mimetype": "text/x-python",
   "name": "python",
   "nbconvert_exporter": "python",
   "pygments_lexer": "ipython3",
   "version": "3.7.3"
  }
 },
 "nbformat": 4,
 "nbformat_minor": 2
}
